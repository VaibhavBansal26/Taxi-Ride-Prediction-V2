{
 "cells": [
  {
   "cell_type": "code",
   "execution_count": 106,
   "metadata": {},
   "outputs": [
    {
     "name": "stdout",
     "output_type": "stream",
     "text": [
      "The autoreload extension is already loaded. To reload it, use:\n",
      "  %reload_ext autoreload\n"
     ]
    }
   ],
   "source": [
    "%load_ext autoreload\n",
    "%autoreload 2"
   ]
  },
  {
   "cell_type": "code",
   "execution_count": 107,
   "metadata": {},
   "outputs": [],
   "source": [
    "import logging\n",
    "import os\n",
    "import sys\n",
    "from datetime import datetime, timedelta, timezone\n",
    "sys.path.append(os.path.abspath(os.path.join(os.getcwd(), \"..\")))\n",
    "import hopsworks\n",
    "import pandas as pd\n",
    "\n",
    "import config.config as config\n",
    "from src.data_fetching_and_processing.fetch_batch_raw_data import fetch_batch_raw_data\n",
    "from src.data_fetching_and_processing.transform_raw_to_timeseries_data import transform_raw_to_timeseries_data\n",
    "\n",
    "# Configure logging\n",
    "logging.basicConfig(\n",
    "    level=logging.INFO,\n",
    "    format=\"%(asctime)s - %(levelname)s - %(message)s\",  # Log format\n",
    "    handlers=[\n",
    "        logging.StreamHandler(sys.stdout),\n",
    "    ],\n",
    ")\n",
    "logger = logging.getLogger(__name__)"
   ]
  },
  {
   "cell_type": "markdown",
   "metadata": {},
   "source": [
    "**Step 1: Get the current date and time (timezone-aware)**"
   ]
  },
  {
   "cell_type": "code",
   "execution_count": 108,
   "metadata": {},
   "outputs": [
    {
     "name": "stdout",
     "output_type": "stream",
     "text": [
      "2025-02-28 22:38:25,519 INFO: Current date and time (UTC): 2025-03-01 04:00:00+00:00\n",
      "2025-02-28 22:38:25,527 INFO: Current date and time (America/NewYork): 2025-02-28 23:00:00-05:00\n"
     ]
    }
   ],
   "source": [
    "import pytz\n",
    "\n",
    "utc = pytz.utc\n",
    "est = pytz.timezone('America/New_York')\n",
    "\n",
    "current_date = pd.to_datetime(datetime.now(timezone.utc)).ceil(\"h\")\n",
    "current_date_ny = current_date.astimezone(est)\n",
    "logger.info(f\"Current date and time (UTC): {current_date}\")\n",
    "logger.info(f\"Current date and time (America/NewYork): {current_date_ny}\")"
   ]
  },
  {
   "cell_type": "markdown",
   "metadata": {},
   "source": [
    "**Step 2: Define the data fetching range**"
   ]
  },
  {
   "cell_type": "code",
   "execution_count": 109,
   "metadata": {},
   "outputs": [
    {
     "name": "stdout",
     "output_type": "stream",
     "text": [
      "2025-02-28 22:38:29,360 INFO: Fetching data from 2025-02-01 04:00:00+00:00 to 2025-03-01 04:00:00+00:00\n"
     ]
    }
   ],
   "source": [
    "fetch_data_to = current_date\n",
    "fetch_data_from = current_date - timedelta(days=28)\n",
    "logger.info(f\"Fetching data from {fetch_data_from} to {fetch_data_to}\")"
   ]
  },
  {
   "cell_type": "markdown",
   "metadata": {},
   "source": [
    "**Step 3: Fetch raw data**"
   ]
  },
  {
   "cell_type": "code",
   "execution_count": 110,
   "metadata": {},
   "outputs": [
    {
     "name": "stdout",
     "output_type": "stream",
     "text": [
      "2025-02-28 22:38:32,412 INFO: Fetching raw data...\n",
      "File already exists for 2024-02.\n",
      "Loading data for 2024-02...\n",
      "Total records: 3,007,526\n",
      "Valid records: 2,954,709\n",
      "Records dropped: 52,817 (1.76%)\n",
      "Successfully processed data for 2024-02.\n",
      "Successfully saved as Parquet: ../data/raw/rides_zones.parquet\n",
      "Combining all monthly data...\n",
      "Data loading and processing complete!\n",
      "File already exists for 2024-03.\n",
      "Loading data for 2024-03...\n",
      "Total records: 3,582,628\n",
      "Valid records: 3,518,066\n",
      "Records dropped: 64,562 (1.80%)\n",
      "Successfully processed data for 2024-03.\n",
      "Successfully saved as Parquet: ../data/raw/rides_zones.parquet\n",
      "Combining all monthly data...\n",
      "Data loading and processing complete!\n",
      "2025-02-28 22:38:36,190 INFO: Raw data fetched. Number of records: 2859027\n"
     ]
    }
   ],
   "source": [
    "logger.info(\"Fetching raw data...\")\n",
    "rides = fetch_batch_raw_data(fetch_data_from, fetch_data_to)\n",
    "logger.info(f\"Raw data fetched. Number of records: {len(rides)}\")"
   ]
  },
  {
   "cell_type": "code",
   "execution_count": 111,
   "metadata": {},
   "outputs": [
    {
     "data": {
      "text/html": [
       "<div>\n",
       "<style scoped>\n",
       "    .dataframe tbody tr th:only-of-type {\n",
       "        vertical-align: middle;\n",
       "    }\n",
       "\n",
       "    .dataframe tbody tr th {\n",
       "        vertical-align: top;\n",
       "    }\n",
       "\n",
       "    .dataframe thead th {\n",
       "        text-align: right;\n",
       "    }\n",
       "</style>\n",
       "<table border=\"1\" class=\"dataframe\">\n",
       "  <thead>\n",
       "    <tr style=\"text-align: right;\">\n",
       "      <th></th>\n",
       "      <th>pickup_datetime</th>\n",
       "      <th>pickup_location_id</th>\n",
       "      <th>zone</th>\n",
       "    </tr>\n",
       "  </thead>\n",
       "  <tbody>\n",
       "    <tr>\n",
       "      <th>1067184</th>\n",
       "      <td>2025-02-12 16:25:44</td>\n",
       "      <td>2</td>\n",
       "      <td>Jamaica Bay, Queens</td>\n",
       "    </tr>\n",
       "    <tr>\n",
       "      <th>1373885</th>\n",
       "      <td>2025-02-15 16:56:40</td>\n",
       "      <td>2</td>\n",
       "      <td>Jamaica Bay, Queens</td>\n",
       "    </tr>\n",
       "    <tr>\n",
       "      <th>7558</th>\n",
       "      <td>2025-02-01 09:01:18</td>\n",
       "      <td>3</td>\n",
       "      <td>Allerton/Pelham Gardens, Bronx</td>\n",
       "    </tr>\n",
       "    <tr>\n",
       "      <th>58129</th>\n",
       "      <td>2025-02-01 18:58:51</td>\n",
       "      <td>3</td>\n",
       "      <td>Allerton/Pelham Gardens, Bronx</td>\n",
       "    </tr>\n",
       "    <tr>\n",
       "      <th>109251</th>\n",
       "      <td>2025-02-02 08:19:12</td>\n",
       "      <td>3</td>\n",
       "      <td>Allerton/Pelham Gardens, Bronx</td>\n",
       "    </tr>\n",
       "  </tbody>\n",
       "</table>\n",
       "</div>"
      ],
      "text/plain": [
       "            pickup_datetime  pickup_location_id  \\\n",
       "1067184 2025-02-12 16:25:44                   2   \n",
       "1373885 2025-02-15 16:56:40                   2   \n",
       "7558    2025-02-01 09:01:18                   3   \n",
       "58129   2025-02-01 18:58:51                   3   \n",
       "109251  2025-02-02 08:19:12                   3   \n",
       "\n",
       "                                   zone  \n",
       "1067184             Jamaica Bay, Queens  \n",
       "1373885             Jamaica Bay, Queens  \n",
       "7558     Allerton/Pelham Gardens, Bronx  \n",
       "58129    Allerton/Pelham Gardens, Bronx  \n",
       "109251   Allerton/Pelham Gardens, Bronx  "
      ]
     },
     "execution_count": 111,
     "metadata": {},
     "output_type": "execute_result"
    }
   ],
   "source": [
    "rides.head()"
   ]
  },
  {
   "cell_type": "markdown",
   "metadata": {},
   "source": [
    "**Step 4: Transform raw data into time-series data**"
   ]
  },
  {
   "cell_type": "code",
   "execution_count": 112,
   "metadata": {},
   "outputs": [
    {
     "name": "stdout",
     "output_type": "stream",
     "text": [
      "2025-02-28 22:38:40,796 INFO: Transforming raw data into time-series data...\n",
      "2025-02-28 22:38:55,587 INFO: Transformation complete. Number of records in time-series data: 168672\n"
     ]
    },
    {
     "data": {
      "text/html": [
       "<div>\n",
       "<style scoped>\n",
       "    .dataframe tbody tr th:only-of-type {\n",
       "        vertical-align: middle;\n",
       "    }\n",
       "\n",
       "    .dataframe tbody tr th {\n",
       "        vertical-align: top;\n",
       "    }\n",
       "\n",
       "    .dataframe thead th {\n",
       "        text-align: right;\n",
       "    }\n",
       "</style>\n",
       "<table border=\"1\" class=\"dataframe\">\n",
       "  <thead>\n",
       "    <tr style=\"text-align: right;\">\n",
       "      <th></th>\n",
       "      <th>pickup_hour</th>\n",
       "      <th>pickup_location_id</th>\n",
       "      <th>zone</th>\n",
       "      <th>rides</th>\n",
       "    </tr>\n",
       "  </thead>\n",
       "  <tbody>\n",
       "    <tr>\n",
       "      <th>0</th>\n",
       "      <td>2025-02-01 04:00:00</td>\n",
       "      <td>2</td>\n",
       "      <td>Jamaica Bay, Queens</td>\n",
       "      <td>0</td>\n",
       "    </tr>\n",
       "    <tr>\n",
       "      <th>1</th>\n",
       "      <td>2025-02-01 05:00:00</td>\n",
       "      <td>2</td>\n",
       "      <td>Jamaica Bay, Queens</td>\n",
       "      <td>0</td>\n",
       "    </tr>\n",
       "    <tr>\n",
       "      <th>2</th>\n",
       "      <td>2025-02-01 06:00:00</td>\n",
       "      <td>2</td>\n",
       "      <td>Jamaica Bay, Queens</td>\n",
       "      <td>0</td>\n",
       "    </tr>\n",
       "    <tr>\n",
       "      <th>3</th>\n",
       "      <td>2025-02-01 07:00:00</td>\n",
       "      <td>2</td>\n",
       "      <td>Jamaica Bay, Queens</td>\n",
       "      <td>0</td>\n",
       "    </tr>\n",
       "    <tr>\n",
       "      <th>4</th>\n",
       "      <td>2025-02-01 08:00:00</td>\n",
       "      <td>2</td>\n",
       "      <td>Jamaica Bay, Queens</td>\n",
       "      <td>0</td>\n",
       "    </tr>\n",
       "    <tr>\n",
       "      <th>5</th>\n",
       "      <td>2025-02-01 09:00:00</td>\n",
       "      <td>2</td>\n",
       "      <td>Jamaica Bay, Queens</td>\n",
       "      <td>0</td>\n",
       "    </tr>\n",
       "    <tr>\n",
       "      <th>6</th>\n",
       "      <td>2025-02-01 10:00:00</td>\n",
       "      <td>2</td>\n",
       "      <td>Jamaica Bay, Queens</td>\n",
       "      <td>0</td>\n",
       "    </tr>\n",
       "    <tr>\n",
       "      <th>7</th>\n",
       "      <td>2025-02-01 11:00:00</td>\n",
       "      <td>2</td>\n",
       "      <td>Jamaica Bay, Queens</td>\n",
       "      <td>0</td>\n",
       "    </tr>\n",
       "    <tr>\n",
       "      <th>8</th>\n",
       "      <td>2025-02-01 12:00:00</td>\n",
       "      <td>2</td>\n",
       "      <td>Jamaica Bay, Queens</td>\n",
       "      <td>0</td>\n",
       "    </tr>\n",
       "    <tr>\n",
       "      <th>9</th>\n",
       "      <td>2025-02-01 13:00:00</td>\n",
       "      <td>2</td>\n",
       "      <td>Jamaica Bay, Queens</td>\n",
       "      <td>0</td>\n",
       "    </tr>\n",
       "    <tr>\n",
       "      <th>10</th>\n",
       "      <td>2025-02-01 14:00:00</td>\n",
       "      <td>2</td>\n",
       "      <td>Jamaica Bay, Queens</td>\n",
       "      <td>0</td>\n",
       "    </tr>\n",
       "    <tr>\n",
       "      <th>11</th>\n",
       "      <td>2025-02-01 15:00:00</td>\n",
       "      <td>2</td>\n",
       "      <td>Jamaica Bay, Queens</td>\n",
       "      <td>0</td>\n",
       "    </tr>\n",
       "    <tr>\n",
       "      <th>12</th>\n",
       "      <td>2025-02-01 16:00:00</td>\n",
       "      <td>2</td>\n",
       "      <td>Jamaica Bay, Queens</td>\n",
       "      <td>0</td>\n",
       "    </tr>\n",
       "    <tr>\n",
       "      <th>13</th>\n",
       "      <td>2025-02-01 17:00:00</td>\n",
       "      <td>2</td>\n",
       "      <td>Jamaica Bay, Queens</td>\n",
       "      <td>0</td>\n",
       "    </tr>\n",
       "    <tr>\n",
       "      <th>14</th>\n",
       "      <td>2025-02-01 18:00:00</td>\n",
       "      <td>2</td>\n",
       "      <td>Jamaica Bay, Queens</td>\n",
       "      <td>0</td>\n",
       "    </tr>\n",
       "    <tr>\n",
       "      <th>15</th>\n",
       "      <td>2025-02-01 19:00:00</td>\n",
       "      <td>2</td>\n",
       "      <td>Jamaica Bay, Queens</td>\n",
       "      <td>0</td>\n",
       "    </tr>\n",
       "    <tr>\n",
       "      <th>16</th>\n",
       "      <td>2025-02-01 20:00:00</td>\n",
       "      <td>2</td>\n",
       "      <td>Jamaica Bay, Queens</td>\n",
       "      <td>0</td>\n",
       "    </tr>\n",
       "    <tr>\n",
       "      <th>17</th>\n",
       "      <td>2025-02-01 21:00:00</td>\n",
       "      <td>2</td>\n",
       "      <td>Jamaica Bay, Queens</td>\n",
       "      <td>0</td>\n",
       "    </tr>\n",
       "    <tr>\n",
       "      <th>18</th>\n",
       "      <td>2025-02-01 22:00:00</td>\n",
       "      <td>2</td>\n",
       "      <td>Jamaica Bay, Queens</td>\n",
       "      <td>0</td>\n",
       "    </tr>\n",
       "    <tr>\n",
       "      <th>19</th>\n",
       "      <td>2025-02-01 23:00:00</td>\n",
       "      <td>2</td>\n",
       "      <td>Jamaica Bay, Queens</td>\n",
       "      <td>0</td>\n",
       "    </tr>\n",
       "  </tbody>\n",
       "</table>\n",
       "</div>"
      ],
      "text/plain": [
       "           pickup_hour  pickup_location_id                 zone  rides\n",
       "0  2025-02-01 04:00:00                   2  Jamaica Bay, Queens      0\n",
       "1  2025-02-01 05:00:00                   2  Jamaica Bay, Queens      0\n",
       "2  2025-02-01 06:00:00                   2  Jamaica Bay, Queens      0\n",
       "3  2025-02-01 07:00:00                   2  Jamaica Bay, Queens      0\n",
       "4  2025-02-01 08:00:00                   2  Jamaica Bay, Queens      0\n",
       "5  2025-02-01 09:00:00                   2  Jamaica Bay, Queens      0\n",
       "6  2025-02-01 10:00:00                   2  Jamaica Bay, Queens      0\n",
       "7  2025-02-01 11:00:00                   2  Jamaica Bay, Queens      0\n",
       "8  2025-02-01 12:00:00                   2  Jamaica Bay, Queens      0\n",
       "9  2025-02-01 13:00:00                   2  Jamaica Bay, Queens      0\n",
       "10 2025-02-01 14:00:00                   2  Jamaica Bay, Queens      0\n",
       "11 2025-02-01 15:00:00                   2  Jamaica Bay, Queens      0\n",
       "12 2025-02-01 16:00:00                   2  Jamaica Bay, Queens      0\n",
       "13 2025-02-01 17:00:00                   2  Jamaica Bay, Queens      0\n",
       "14 2025-02-01 18:00:00                   2  Jamaica Bay, Queens      0\n",
       "15 2025-02-01 19:00:00                   2  Jamaica Bay, Queens      0\n",
       "16 2025-02-01 20:00:00                   2  Jamaica Bay, Queens      0\n",
       "17 2025-02-01 21:00:00                   2  Jamaica Bay, Queens      0\n",
       "18 2025-02-01 22:00:00                   2  Jamaica Bay, Queens      0\n",
       "19 2025-02-01 23:00:00                   2  Jamaica Bay, Queens      0"
      ]
     },
     "execution_count": 112,
     "metadata": {},
     "output_type": "execute_result"
    }
   ],
   "source": [
    "logger.info(\"Transforming raw data into time-series data...\")\n",
    "ts_data = transform_raw_to_timeseries_data(rides)\n",
    "logger.info(\n",
    "    f\"Transformation complete. Number of records in time-series data: {len(ts_data)}\"\n",
    ")\n",
    "ts_data.head(20)"
   ]
  },
  {
   "cell_type": "markdown",
   "metadata": {},
   "source": [
    "**Hopsworks Connection**"
   ]
  },
  {
   "cell_type": "code",
   "execution_count": 113,
   "metadata": {},
   "outputs": [
    {
     "name": "stdout",
     "output_type": "stream",
     "text": [
      "2025-02-28 22:39:04,958 INFO: Connecting to Hopsworks project...\n",
      "2025-02-28 22:39:04,958 INFO: Closing external client and cleaning up certificates.\n",
      "Connection closed.\n",
      "2025-02-28 22:39:04,969 INFO: Initializing external client\n",
      "2025-02-28 22:39:04,969 INFO: Base URL: https://c.app.hopsworks.ai:443\n",
      "2025-02-28 22:39:06,079 INFO: Python Engine initialized.\n",
      "\n",
      "Logged in to project, explore it here https://c.app.hopsworks.ai:443/p/1214648\n",
      "2025-02-28 22:39:06,824 INFO: Connected to Hopsworks project.\n",
      "2025-02-28 22:39:06,825 INFO: Connecting to the feature store...\n",
      "2025-02-28 22:39:06,927 INFO: Connected to the feature store.\n",
      "2025-02-28 22:39:06,932 INFO: Connecting to the feature group: time_series_hourly_feature_group_v2 (version 1)...\n",
      "2025-02-28 22:39:07,221 INFO: Feature group ready.\n",
      "2025-02-28 22:39:07,221 INFO: Inserting data into the feature group...\n"
     ]
    },
    {
     "name": "stderr",
     "output_type": "stream",
     "text": [
      "Uploading Dataframe: 100.00% |█████████████████████████████████| Rows 168672/168672 | Elapsed Time: 00:15 | Remaining Time: 00:00\n"
     ]
    },
    {
     "name": "stdout",
     "output_type": "stream",
     "text": [
      "Launching job: time_series_hourly_feature_group_v2_1_offline_fg_materialization\n",
      "Job started successfully, you can follow the progress at \n",
      "https://c.app.hopsworks.ai:443/p/1214648/jobs/named/time_series_hourly_feature_group_v2_1_offline_fg_materialization/executions\n",
      "2025-02-28 22:39:31,971 INFO: Data insertion completed.\n"
     ]
    }
   ],
   "source": [
    "# Step 5: Connect to the Hopsworks project\n",
    "logger.info(\"Connecting to Hopsworks project...\")\n",
    "project = hopsworks.login(\n",
    "    project=config.HOPSWORKS_PROJECT_NAME, api_key_value=config.HOPSWORKS_API_KEY\n",
    ")\n",
    "logger.info(\"Connected to Hopsworks project.\")\n",
    "\n",
    "# Step 6: Connect to the feature store\n",
    "logger.info(\"Connecting to the feature store...\")\n",
    "feature_store = project.get_feature_store()\n",
    "logger.info(\"Connected to the feature store.\")\n",
    "\n",
    "# Step 7: Connect to or create the feature group\n",
    "logger.info(\n",
    "    f\"Connecting to the feature group: {config.FEATURE_GROUP_NAME} (version {config.FEATURE_GROUP_VERSION})...\"\n",
    ")\n",
    "feature_group = feature_store.get_or_create_feature_group(\n",
    "    name=config.FEATURE_GROUP_NAME,\n",
    "    version=config.FEATURE_GROUP_VERSION,\n",
    "    description=\"Time series data at hourly frequency v2\",\n",
    "    primary_key=['pickup_location_id','pickup_hour','Zone'],\n",
    "    event_time = ['pickup_hour']\n",
    ")\n",
    "logger.info(\"Feature group ready.\")\n",
    "\n",
    "# Step 8: Insert data into the feature group\n",
    "logger.info(\"Inserting data into the feature group...\")\n",
    "feature_group.insert(ts_data, write_options={\"wait_for_job\": False})\n",
    "logger.info(\"Data insertion completed.\")"
   ]
  },
  {
   "cell_type": "code",
   "execution_count": null,
   "metadata": {},
   "outputs": [],
   "source": []
  }
 ],
 "metadata": {
  "kernelspec": {
   "display_name": "Python 3 (ipykernel)",
   "language": "python",
   "name": "python3"
  },
  "language_info": {
   "codemirror_mode": {
    "name": "ipython",
    "version": 3
   },
   "file_extension": ".py",
   "mimetype": "text/x-python",
   "name": "python",
   "nbconvert_exporter": "python",
   "pygments_lexer": "ipython3",
   "version": "3.11.5"
  }
 },
 "nbformat": 4,
 "nbformat_minor": 4
}

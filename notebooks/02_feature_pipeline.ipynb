{
 "cells": [
  {
   "cell_type": "code",
   "execution_count": 135,
   "metadata": {},
   "outputs": [
    {
     "name": "stdout",
     "output_type": "stream",
     "text": [
      "The autoreload extension is already loaded. To reload it, use:\n",
      "  %reload_ext autoreload\n"
     ]
    }
   ],
   "source": [
    "%load_ext autoreload\n",
    "%autoreload 2"
   ]
  },
  {
   "cell_type": "code",
   "execution_count": 136,
   "metadata": {},
   "outputs": [],
   "source": [
    "import logging\n",
    "import os\n",
    "import sys\n",
    "from datetime import datetime, timedelta, timezone\n",
    "sys.path.append(os.path.abspath(os.path.join(os.getcwd(), \"..\")))\n",
    "import hopsworks\n",
    "import pandas as pd\n",
    "\n",
    "import config.config as config\n",
    "from src.data_fetching_and_processing.fetch_batch_raw_data import fetch_batch_raw_data\n",
    "from src.data_fetching_and_processing.transform_raw_to_timeseries_data import transform_raw_to_timeseries_data\n",
    "\n",
    "# Configure logging\n",
    "logging.basicConfig(\n",
    "    level=logging.INFO,\n",
    "    format=\"%(asctime)s - %(levelname)s - %(message)s\",  # Log format\n",
    "    handlers=[\n",
    "        logging.StreamHandler(sys.stdout),\n",
    "    ],\n",
    ")\n",
    "logger = logging.getLogger(__name__)"
   ]
  },
  {
   "cell_type": "markdown",
   "metadata": {},
   "source": [
    "**Step 1: Get the current date and time (timezone-aware)**"
   ]
  },
  {
   "cell_type": "code",
   "execution_count": 137,
   "metadata": {},
   "outputs": [
    {
     "name": "stdout",
     "output_type": "stream",
     "text": [
      "2025-03-01 00:26:42,385 INFO: Current date and time (UTC): 2025-03-01 06:00:00+00:00\n",
      "2025-03-01 00:26:42,385 INFO: Current date and time (America/NewYork): 2025-03-01 01:00:00-05:00\n"
     ]
    }
   ],
   "source": [
    "import pytz\n",
    "\n",
    "utc = pytz.utc\n",
    "est = pytz.timezone('America/New_York')\n",
    "\n",
    "current_date = pd.to_datetime(datetime.now(timezone.utc)).ceil(\"h\")\n",
    "current_date_ny = current_date.astimezone(est)\n",
    "logger.info(f\"Current date and time (UTC): {current_date}\")\n",
    "logger.info(f\"Current date and time (America/NewYork): {current_date_ny}\")"
   ]
  },
  {
   "cell_type": "markdown",
   "metadata": {},
   "source": [
    "**Step 2: Define the data fetching range**"
   ]
  },
  {
   "cell_type": "code",
   "execution_count": 138,
   "metadata": {},
   "outputs": [
    {
     "name": "stdout",
     "output_type": "stream",
     "text": [
      "2025-03-01 00:26:44,408 INFO: Fetching data from 2025-02-01 06:00:00+00:00 to 2025-03-01 06:00:00+00:00\n"
     ]
    }
   ],
   "source": [
    "fetch_data_to = current_date\n",
    "fetch_data_from = current_date - timedelta(days=28)\n",
    "logger.info(f\"Fetching data from {fetch_data_from} to {fetch_data_to}\")"
   ]
  },
  {
   "cell_type": "markdown",
   "metadata": {},
   "source": [
    "**Step 3: Fetch raw data**"
   ]
  },
  {
   "cell_type": "code",
   "execution_count": 139,
   "metadata": {},
   "outputs": [
    {
     "name": "stdout",
     "output_type": "stream",
     "text": [
      "2025-03-01 00:26:46,158 INFO: Fetching raw data...\n",
      "File already exists for 2023-02.\n",
      "Loading data for 2023-02...\n",
      "Total records: 2,913,955\n",
      "Valid records: 2,845,058\n",
      "Records dropped: 68,897 (2.36%)\n",
      "Successfully processed data for 2023-02.\n",
      "Successfully saved as Parquet: ../data/raw/rides_zones.parquet\n",
      "Combining all monthly data...\n",
      "Data loading and processing complete!\n",
      "File already exists for 2024-03.\n",
      "Loading data for 2024-03...\n",
      "Total records: 3,582,628\n",
      "Valid records: 3,518,066\n",
      "Records dropped: 64,562 (1.80%)\n",
      "Successfully processed data for 2024-03.\n",
      "Successfully saved as Parquet: ../data/raw/rides_zones.parquet\n",
      "Combining all monthly data...\n",
      "Data loading and processing complete!\n",
      "2025-03-01 00:26:49,873 INFO: Raw data fetched. Number of records: 2637884\n"
     ]
    }
   ],
   "source": [
    "logger.info(\"Fetching raw data...\")\n",
    "rides = fetch_batch_raw_data(fetch_data_from, fetch_data_to)\n",
    "logger.info(f\"Raw data fetched. Number of records: {len(rides)}\")"
   ]
  },
  {
   "cell_type": "code",
   "execution_count": 140,
   "metadata": {},
   "outputs": [
    {
     "data": {
      "text/html": [
       "<div>\n",
       "<style scoped>\n",
       "    .dataframe tbody tr th:only-of-type {\n",
       "        vertical-align: middle;\n",
       "    }\n",
       "\n",
       "    .dataframe tbody tr th {\n",
       "        vertical-align: top;\n",
       "    }\n",
       "\n",
       "    .dataframe thead th {\n",
       "        text-align: right;\n",
       "    }\n",
       "</style>\n",
       "<table border=\"1\" class=\"dataframe\">\n",
       "  <thead>\n",
       "    <tr style=\"text-align: right;\">\n",
       "      <th></th>\n",
       "      <th>pickup_datetime</th>\n",
       "      <th>pickup_location_id</th>\n",
       "      <th>zone</th>\n",
       "    </tr>\n",
       "  </thead>\n",
       "  <tbody>\n",
       "    <tr>\n",
       "      <th>185605</th>\n",
       "      <td>2024-02-05 11:45:03</td>\n",
       "      <td>2</td>\n",
       "      <td>Jamaica Bay, Queens</td>\n",
       "    </tr>\n",
       "    <tr>\n",
       "      <th>874172</th>\n",
       "      <td>2024-02-12 07:04:57</td>\n",
       "      <td>2</td>\n",
       "      <td>Jamaica Bay, Queens</td>\n",
       "    </tr>\n",
       "    <tr>\n",
       "      <th>174666</th>\n",
       "      <td>2024-02-05 09:33:19</td>\n",
       "      <td>3</td>\n",
       "      <td>Allerton/Pelham Gardens, Bronx</td>\n",
       "    </tr>\n",
       "    <tr>\n",
       "      <th>189355</th>\n",
       "      <td>2024-02-05 12:36:31</td>\n",
       "      <td>3</td>\n",
       "      <td>Allerton/Pelham Gardens, Bronx</td>\n",
       "    </tr>\n",
       "    <tr>\n",
       "      <th>298663</th>\n",
       "      <td>2024-02-06 15:47:16</td>\n",
       "      <td>3</td>\n",
       "      <td>Allerton/Pelham Gardens, Bronx</td>\n",
       "    </tr>\n",
       "  </tbody>\n",
       "</table>\n",
       "</div>"
      ],
      "text/plain": [
       "           pickup_datetime  pickup_location_id                            zone\n",
       "185605 2024-02-05 11:45:03                   2             Jamaica Bay, Queens\n",
       "874172 2024-02-12 07:04:57                   2             Jamaica Bay, Queens\n",
       "174666 2024-02-05 09:33:19                   3  Allerton/Pelham Gardens, Bronx\n",
       "189355 2024-02-05 12:36:31                   3  Allerton/Pelham Gardens, Bronx\n",
       "298663 2024-02-06 15:47:16                   3  Allerton/Pelham Gardens, Bronx"
      ]
     },
     "execution_count": 140,
     "metadata": {},
     "output_type": "execute_result"
    }
   ],
   "source": [
    "rides.head()"
   ]
  },
  {
   "cell_type": "markdown",
   "metadata": {},
   "source": [
    "**Step 4: Transform raw data into time-series data**"
   ]
  },
  {
   "cell_type": "code",
   "execution_count": 141,
   "metadata": {},
   "outputs": [
    {
     "name": "stdout",
     "output_type": "stream",
     "text": [
      "2025-03-01 00:26:57,369 INFO: Transforming raw data into time-series data...\n",
      "2025-03-01 00:30:13,418 INFO: Transformation complete. Number of records in time-series data: 2389632\n"
     ]
    },
    {
     "data": {
      "text/html": [
       "<div>\n",
       "<style scoped>\n",
       "    .dataframe tbody tr th:only-of-type {\n",
       "        vertical-align: middle;\n",
       "    }\n",
       "\n",
       "    .dataframe tbody tr th {\n",
       "        vertical-align: top;\n",
       "    }\n",
       "\n",
       "    .dataframe thead th {\n",
       "        text-align: right;\n",
       "    }\n",
       "</style>\n",
       "<table border=\"1\" class=\"dataframe\">\n",
       "  <thead>\n",
       "    <tr style=\"text-align: right;\">\n",
       "      <th></th>\n",
       "      <th>pickup_hour</th>\n",
       "      <th>pickup_location_id</th>\n",
       "      <th>zone</th>\n",
       "      <th>rides</th>\n",
       "    </tr>\n",
       "  </thead>\n",
       "  <tbody>\n",
       "    <tr>\n",
       "      <th>0</th>\n",
       "      <td>2024-02-03 06:00:00</td>\n",
       "      <td>2</td>\n",
       "      <td>Jamaica Bay, Queens</td>\n",
       "      <td>0</td>\n",
       "    </tr>\n",
       "    <tr>\n",
       "      <th>1</th>\n",
       "      <td>2024-02-03 07:00:00</td>\n",
       "      <td>2</td>\n",
       "      <td>Jamaica Bay, Queens</td>\n",
       "      <td>0</td>\n",
       "    </tr>\n",
       "    <tr>\n",
       "      <th>2</th>\n",
       "      <td>2024-02-03 08:00:00</td>\n",
       "      <td>2</td>\n",
       "      <td>Jamaica Bay, Queens</td>\n",
       "      <td>0</td>\n",
       "    </tr>\n",
       "    <tr>\n",
       "      <th>3</th>\n",
       "      <td>2024-02-03 09:00:00</td>\n",
       "      <td>2</td>\n",
       "      <td>Jamaica Bay, Queens</td>\n",
       "      <td>0</td>\n",
       "    </tr>\n",
       "    <tr>\n",
       "      <th>4</th>\n",
       "      <td>2024-02-03 10:00:00</td>\n",
       "      <td>2</td>\n",
       "      <td>Jamaica Bay, Queens</td>\n",
       "      <td>0</td>\n",
       "    </tr>\n",
       "    <tr>\n",
       "      <th>5</th>\n",
       "      <td>2024-02-03 11:00:00</td>\n",
       "      <td>2</td>\n",
       "      <td>Jamaica Bay, Queens</td>\n",
       "      <td>0</td>\n",
       "    </tr>\n",
       "    <tr>\n",
       "      <th>6</th>\n",
       "      <td>2024-02-03 12:00:00</td>\n",
       "      <td>2</td>\n",
       "      <td>Jamaica Bay, Queens</td>\n",
       "      <td>0</td>\n",
       "    </tr>\n",
       "    <tr>\n",
       "      <th>7</th>\n",
       "      <td>2024-02-03 13:00:00</td>\n",
       "      <td>2</td>\n",
       "      <td>Jamaica Bay, Queens</td>\n",
       "      <td>0</td>\n",
       "    </tr>\n",
       "    <tr>\n",
       "      <th>8</th>\n",
       "      <td>2024-02-03 14:00:00</td>\n",
       "      <td>2</td>\n",
       "      <td>Jamaica Bay, Queens</td>\n",
       "      <td>0</td>\n",
       "    </tr>\n",
       "    <tr>\n",
       "      <th>9</th>\n",
       "      <td>2024-02-03 15:00:00</td>\n",
       "      <td>2</td>\n",
       "      <td>Jamaica Bay, Queens</td>\n",
       "      <td>0</td>\n",
       "    </tr>\n",
       "    <tr>\n",
       "      <th>10</th>\n",
       "      <td>2024-02-03 16:00:00</td>\n",
       "      <td>2</td>\n",
       "      <td>Jamaica Bay, Queens</td>\n",
       "      <td>0</td>\n",
       "    </tr>\n",
       "    <tr>\n",
       "      <th>11</th>\n",
       "      <td>2024-02-03 17:00:00</td>\n",
       "      <td>2</td>\n",
       "      <td>Jamaica Bay, Queens</td>\n",
       "      <td>0</td>\n",
       "    </tr>\n",
       "    <tr>\n",
       "      <th>12</th>\n",
       "      <td>2024-02-03 18:00:00</td>\n",
       "      <td>2</td>\n",
       "      <td>Jamaica Bay, Queens</td>\n",
       "      <td>0</td>\n",
       "    </tr>\n",
       "    <tr>\n",
       "      <th>13</th>\n",
       "      <td>2024-02-03 19:00:00</td>\n",
       "      <td>2</td>\n",
       "      <td>Jamaica Bay, Queens</td>\n",
       "      <td>0</td>\n",
       "    </tr>\n",
       "    <tr>\n",
       "      <th>14</th>\n",
       "      <td>2024-02-03 20:00:00</td>\n",
       "      <td>2</td>\n",
       "      <td>Jamaica Bay, Queens</td>\n",
       "      <td>0</td>\n",
       "    </tr>\n",
       "    <tr>\n",
       "      <th>15</th>\n",
       "      <td>2024-02-03 21:00:00</td>\n",
       "      <td>2</td>\n",
       "      <td>Jamaica Bay, Queens</td>\n",
       "      <td>0</td>\n",
       "    </tr>\n",
       "    <tr>\n",
       "      <th>16</th>\n",
       "      <td>2024-02-03 22:00:00</td>\n",
       "      <td>2</td>\n",
       "      <td>Jamaica Bay, Queens</td>\n",
       "      <td>0</td>\n",
       "    </tr>\n",
       "    <tr>\n",
       "      <th>17</th>\n",
       "      <td>2024-02-03 23:00:00</td>\n",
       "      <td>2</td>\n",
       "      <td>Jamaica Bay, Queens</td>\n",
       "      <td>0</td>\n",
       "    </tr>\n",
       "    <tr>\n",
       "      <th>18</th>\n",
       "      <td>2024-02-04 00:00:00</td>\n",
       "      <td>2</td>\n",
       "      <td>Jamaica Bay, Queens</td>\n",
       "      <td>0</td>\n",
       "    </tr>\n",
       "    <tr>\n",
       "      <th>19</th>\n",
       "      <td>2024-02-04 01:00:00</td>\n",
       "      <td>2</td>\n",
       "      <td>Jamaica Bay, Queens</td>\n",
       "      <td>0</td>\n",
       "    </tr>\n",
       "  </tbody>\n",
       "</table>\n",
       "</div>"
      ],
      "text/plain": [
       "           pickup_hour  pickup_location_id                 zone  rides\n",
       "0  2024-02-03 06:00:00                   2  Jamaica Bay, Queens      0\n",
       "1  2024-02-03 07:00:00                   2  Jamaica Bay, Queens      0\n",
       "2  2024-02-03 08:00:00                   2  Jamaica Bay, Queens      0\n",
       "3  2024-02-03 09:00:00                   2  Jamaica Bay, Queens      0\n",
       "4  2024-02-03 10:00:00                   2  Jamaica Bay, Queens      0\n",
       "5  2024-02-03 11:00:00                   2  Jamaica Bay, Queens      0\n",
       "6  2024-02-03 12:00:00                   2  Jamaica Bay, Queens      0\n",
       "7  2024-02-03 13:00:00                   2  Jamaica Bay, Queens      0\n",
       "8  2024-02-03 14:00:00                   2  Jamaica Bay, Queens      0\n",
       "9  2024-02-03 15:00:00                   2  Jamaica Bay, Queens      0\n",
       "10 2024-02-03 16:00:00                   2  Jamaica Bay, Queens      0\n",
       "11 2024-02-03 17:00:00                   2  Jamaica Bay, Queens      0\n",
       "12 2024-02-03 18:00:00                   2  Jamaica Bay, Queens      0\n",
       "13 2024-02-03 19:00:00                   2  Jamaica Bay, Queens      0\n",
       "14 2024-02-03 20:00:00                   2  Jamaica Bay, Queens      0\n",
       "15 2024-02-03 21:00:00                   2  Jamaica Bay, Queens      0\n",
       "16 2024-02-03 22:00:00                   2  Jamaica Bay, Queens      0\n",
       "17 2024-02-03 23:00:00                   2  Jamaica Bay, Queens      0\n",
       "18 2024-02-04 00:00:00                   2  Jamaica Bay, Queens      0\n",
       "19 2024-02-04 01:00:00                   2  Jamaica Bay, Queens      0"
      ]
     },
     "execution_count": 141,
     "metadata": {},
     "output_type": "execute_result"
    }
   ],
   "source": [
    "logger.info(\"Transforming raw data into time-series data...\")\n",
    "ts_data = transform_raw_to_timeseries_data(rides)\n",
    "logger.info(\n",
    "    f\"Transformation complete. Number of records in time-series data: {len(ts_data)}\"\n",
    ")\n",
    "ts_data.head(20)"
   ]
  },
  {
   "cell_type": "markdown",
   "metadata": {},
   "source": [
    "**Hopsworks Connection**"
   ]
  },
  {
   "cell_type": "code",
   "execution_count": 142,
   "metadata": {},
   "outputs": [
    {
     "name": "stdout",
     "output_type": "stream",
     "text": [
      "2025-03-01 00:30:39,176 INFO: Connecting to Hopsworks project...\n",
      "2025-03-01 00:30:39,177 INFO: Closing external client and cleaning up certificates.\n",
      "Connection closed.\n",
      "2025-03-01 00:30:39,241 INFO: Initializing external client\n",
      "2025-03-01 00:30:39,242 INFO: Base URL: https://c.app.hopsworks.ai:443\n",
      "2025-03-01 00:30:39,984 INFO: Python Engine initialized.\n",
      "\n",
      "Logged in to project, explore it here https://c.app.hopsworks.ai:443/p/1214648\n",
      "2025-03-01 00:30:40,664 INFO: Connected to Hopsworks project.\n",
      "2025-03-01 00:30:40,665 INFO: Connecting to the feature store...\n",
      "2025-03-01 00:30:40,789 INFO: Connected to the feature store.\n",
      "2025-03-01 00:30:40,791 INFO: Connecting to the feature group: time_series_hourly_feature_group_v2 (version 1)...\n",
      "2025-03-01 00:30:41,047 INFO: Feature group ready.\n",
      "2025-03-01 00:30:41,048 INFO: Inserting data into the feature group...\n"
     ]
    },
    {
     "name": "stderr",
     "output_type": "stream",
     "text": [
      "Uploading Dataframe: 100.00% |███████████████████████████████| Rows 2389632/2389632 | Elapsed Time: 02:10 | Remaining Time: 00:00\n"
     ]
    },
    {
     "name": "stdout",
     "output_type": "stream",
     "text": [
      "Launching job: time_series_hourly_feature_group_v2_1_offline_fg_materialization\n",
      "Job started successfully, you can follow the progress at \n",
      "https://c.app.hopsworks.ai:443/p/1214648/jobs/named/time_series_hourly_feature_group_v2_1_offline_fg_materialization/executions\n",
      "2025-03-01 00:32:59,478 INFO: Data insertion completed.\n"
     ]
    }
   ],
   "source": [
    "# Step 5: Connect to the Hopsworks project\n",
    "logger.info(\"Connecting to Hopsworks project...\")\n",
    "project = hopsworks.login(\n",
    "    project=config.HOPSWORKS_PROJECT_NAME, api_key_value=config.HOPSWORKS_API_KEY\n",
    ")\n",
    "logger.info(\"Connected to Hopsworks project.\")\n",
    "\n",
    "# Step 6: Connect to the feature store\n",
    "logger.info(\"Connecting to the feature store...\")\n",
    "feature_store = project.get_feature_store()\n",
    "logger.info(\"Connected to the feature store.\")\n",
    "\n",
    "# Step 7: Connect to or create the feature group\n",
    "logger.info(\n",
    "    f\"Connecting to the feature group: {config.FEATURE_GROUP_NAME} (version {config.FEATURE_GROUP_VERSION})...\"\n",
    ")\n",
    "feature_group = feature_store.get_or_create_feature_group(\n",
    "    name=config.FEATURE_GROUP_NAME,\n",
    "    version=config.FEATURE_GROUP_VERSION,\n",
    "    description=\"Time series data at hourly frequency v2\",\n",
    "    primary_key=['pickup_location_id','pickup_hour','zone'],\n",
    "    event_time = ['pickup_hour']\n",
    ")\n",
    "logger.info(\"Feature group ready.\")\n",
    "\n",
    "# Step 8: Insert data into the feature group\n",
    "logger.info(\"Inserting data into the feature group...\")\n",
    "feature_group.insert(ts_data, write_options={\"wait_for_job\": False})\n",
    "logger.info(\"Data insertion completed.\")"
   ]
  },
  {
   "cell_type": "code",
   "execution_count": null,
   "metadata": {},
   "outputs": [],
   "source": []
  }
 ],
 "metadata": {
  "kernelspec": {
   "display_name": "Python 3 (ipykernel)",
   "language": "python",
   "name": "python3"
  },
  "language_info": {
   "codemirror_mode": {
    "name": "ipython",
    "version": 3
   },
   "file_extension": ".py",
   "mimetype": "text/x-python",
   "name": "python",
   "nbconvert_exporter": "python",
   "pygments_lexer": "ipython3",
   "version": "3.11.5"
  }
 },
 "nbformat": 4,
 "nbformat_minor": 4
}

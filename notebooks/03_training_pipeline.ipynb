{
 "cells": [
  {
   "cell_type": "code",
   "execution_count": 37,
   "metadata": {},
   "outputs": [
    {
     "name": "stdout",
     "output_type": "stream",
     "text": [
      "The autoreload extension is already loaded. To reload it, use:\n",
      "  %reload_ext autoreload\n"
     ]
    }
   ],
   "source": [
    "%load_ext autoreload\n",
    "%autoreload 2"
   ]
  },
  {
   "cell_type": "code",
   "execution_count": 38,
   "metadata": {
    "vscode": {
     "languageId": "plaintext"
    }
   },
   "outputs": [],
   "source": [
    "import logging\n",
    "import os\n",
    "import sys\n",
    "from datetime import datetime, timedelta, timezone\n",
    "sys.path.append(os.path.abspath(os.path.join(os.getcwd(), \"..\")))\n",
    "import joblib\n",
    "from hsml.model_schema import ModelSchema\n",
    "from hsml.schema import Schema\n",
    "from sklearn.metrics import mean_absolute_error\n",
    "\n",
    "import config.config as config\n",
    "from src.data_fetching_and_processing.transform_ts_data_to_features_and_target import transform_ts_data_info_features_and_target\n",
    "from src.inference.fetch_days_data import fetch_days_data\n",
    "from src.utils.inference_utils.inference_utils import (\n",
    "    get_hopsworks_project,\n",
    "    load_metrics_from_registry,\n",
    "    load_model_from_registry\n",
    ")\n",
    "from src.utils.pipeline_utils.pipeline_utils import get_pipeline\n"
   ]
  },
  {
   "cell_type": "code",
   "execution_count": 39,
   "metadata": {},
   "outputs": [
    {
     "name": "stdout",
     "output_type": "stream",
     "text": [
      "Fetching data from group store ...\n",
      "2023-09-03 05:47:46.043540+00:00 2025-03-01 05:47:46.043540+00:00\n",
      "2025-03-01 00:47:46,060 INFO: Closing external client and cleaning up certificates.\n",
      "Connection closed.\n",
      "2025-03-01 00:47:46,074 INFO: Initializing external client\n",
      "2025-03-01 00:47:46,074 INFO: Base URL: https://c.app.hopsworks.ai:443\n",
      "2025-03-01 00:47:46,921 INFO: Python Engine initialized.\n",
      "\n",
      "Logged in to project, explore it here https://c.app.hopsworks.ai:443/p/1214648\n",
      "Finished: Reading data from Hopsworks, using Hopsworks Feature Query Service (8.62s) \n",
      "2392324\n",
      "Transforming to ts_data ...\n"
     ]
    }
   ],
   "source": [
    "print(f\"Fetching data from group store ...\")\n",
    "ts_data = fetch_days_data(180)\n",
    "print(len(ts_data))\n",
    "print(f\"Transforming to ts_data ...\")"
   ]
  },
  {
   "cell_type": "code",
   "execution_count": 40,
   "metadata": {},
   "outputs": [
    {
     "data": {
      "text/html": [
       "<div>\n",
       "<style scoped>\n",
       "    .dataframe tbody tr th:only-of-type {\n",
       "        vertical-align: middle;\n",
       "    }\n",
       "\n",
       "    .dataframe tbody tr th {\n",
       "        vertical-align: top;\n",
       "    }\n",
       "\n",
       "    .dataframe thead th {\n",
       "        text-align: right;\n",
       "    }\n",
       "</style>\n",
       "<table border=\"1\" class=\"dataframe\">\n",
       "  <thead>\n",
       "    <tr style=\"text-align: right;\">\n",
       "      <th></th>\n",
       "      <th>pickup_hour</th>\n",
       "      <th>pickup_location_id</th>\n",
       "      <th>zone</th>\n",
       "      <th>rides</th>\n",
       "    </tr>\n",
       "  </thead>\n",
       "  <tbody>\n",
       "    <tr>\n",
       "      <th>0</th>\n",
       "      <td>2025-02-26 05:00:00+00:00</td>\n",
       "      <td>131</td>\n",
       "      <td>Jamaica Estates, Queens</td>\n",
       "      <td>0</td>\n",
       "    </tr>\n",
       "    <tr>\n",
       "      <th>1</th>\n",
       "      <td>2025-02-08 13:00:00+00:00</td>\n",
       "      <td>33</td>\n",
       "      <td>Brooklyn Heights, Brooklyn</td>\n",
       "      <td>0</td>\n",
       "    </tr>\n",
       "    <tr>\n",
       "      <th>2</th>\n",
       "      <td>2025-02-06 20:00:00+00:00</td>\n",
       "      <td>226</td>\n",
       "      <td>Sunnyside, Queens</td>\n",
       "      <td>0</td>\n",
       "    </tr>\n",
       "    <tr>\n",
       "      <th>3</th>\n",
       "      <td>2025-02-03 12:00:00+00:00</td>\n",
       "      <td>242</td>\n",
       "      <td>Van Nest/Morris Park, Bronx</td>\n",
       "      <td>0</td>\n",
       "    </tr>\n",
       "    <tr>\n",
       "      <th>4</th>\n",
       "      <td>2025-02-11 02:00:00+00:00</td>\n",
       "      <td>225</td>\n",
       "      <td>Stuyvesant Heights, Brooklyn</td>\n",
       "      <td>0</td>\n",
       "    </tr>\n",
       "  </tbody>\n",
       "</table>\n",
       "</div>"
      ],
      "text/plain": [
       "                pickup_hour  pickup_location_id                          zone  \\\n",
       "0 2025-02-26 05:00:00+00:00                 131       Jamaica Estates, Queens   \n",
       "1 2025-02-08 13:00:00+00:00                  33    Brooklyn Heights, Brooklyn   \n",
       "2 2025-02-06 20:00:00+00:00                 226             Sunnyside, Queens   \n",
       "3 2025-02-03 12:00:00+00:00                 242   Van Nest/Morris Park, Bronx   \n",
       "4 2025-02-11 02:00:00+00:00                 225  Stuyvesant Heights, Brooklyn   \n",
       "\n",
       "   rides  \n",
       "0      0  \n",
       "1      0  \n",
       "2      0  \n",
       "3      0  \n",
       "4      0  "
      ]
     },
     "execution_count": 40,
     "metadata": {},
     "output_type": "execute_result"
    }
   ],
   "source": [
    "ts_data.head()"
   ]
  },
  {
   "cell_type": "code",
   "execution_count": 41,
   "metadata": {},
   "outputs": [
    {
     "name": "stdout",
     "output_type": "stream",
     "text": [
      "Training model ...\n",
      "[LightGBM] [Info] Auto-choosing col-wise multi-threading, the overhead of testing was 0.071322 seconds.\n",
      "You can set `force_col_wise=true` to remove the overhead.\n",
      "[LightGBM] [Info] Total Bins 163395\n",
      "[LightGBM] [Info] Number of data points in the train set: 96524, number of used features: 675\n",
      "[LightGBM] [Info] Start training from score 1.108253\n"
     ]
    }
   ],
   "source": [
    "features, targets = transform_ts_data_info_features_and_target(\n",
    "    ts_data, window_size=24 * 28, step_size=23\n",
    ")\n",
    "pipeline = get_pipeline()\n",
    "print(f\"Training model ...\")\n",
    "\n",
    "pipeline.fit(features, targets)\n",
    "\n",
    "predictions = pipeline.predict(features)"
   ]
  },
  {
   "cell_type": "code",
   "execution_count": 42,
   "metadata": {},
   "outputs": [
    {
     "name": "stdout",
     "output_type": "stream",
     "text": [
      "2025-03-01 00:48:46,378 INFO: Closing external client and cleaning up certificates.\n",
      "Connection closed.\n",
      "2025-03-01 00:48:46,384 INFO: Initializing external client\n",
      "2025-03-01 00:48:46,385 INFO: Base URL: https://c.app.hopsworks.ai:443\n",
      "2025-03-01 00:48:47,221 INFO: Python Engine initialized.\n",
      "\n",
      "Logged in to project, explore it here https://c.app.hopsworks.ai:443/p/1214648\n",
      "The new MAE is 1.7168\n",
      "The previous MAE is 0.0125\n",
      "Skipping model registration because new model is not better!\n"
     ]
    }
   ],
   "source": [
    "test_mae = mean_absolute_error(targets, predictions)\n",
    "metric = load_metrics_from_registry()\n",
    "\n",
    "print(f\"The new MAE is {test_mae:.4f}\")\n",
    "print(f\"The previous MAE is {metric['test_mae']:.4f}\")\n",
    "\n",
    "if test_mae < metric.get(\"test_mae\"):\n",
    "    print(f\"Registering new model\")\n",
    "    model_path = config.MODELS_DIR / \"lgb_model.pkl\"\n",
    "    joblib.dump(pipeline, model_path)\n",
    "\n",
    "    input_schema = Schema(features)\n",
    "    output_schema = Schema(targets)\n",
    "    model_schema = ModelSchema(input_schema=input_schema, output_schema=output_schema)\n",
    "    project = get_hopsworks_project()\n",
    "    model_registry = project.get_model_registry()\n",
    "\n",
    "    model = model_registry.sklearn.create_model(\n",
    "        name=\"taxi_demand_predictor_next_hour_v2\",\n",
    "        metrics={\"test_mae\": test_mae},\n",
    "        input_example=features.sample(),\n",
    "        model_schema=model_schema,\n",
    "    )\n",
    "    model.save(model_path)\n",
    "else:\n",
    "    print(f\"Skipping model registration because new model is not better!\")\n"
   ]
  },
  {
   "cell_type": "code",
   "execution_count": null,
   "metadata": {},
   "outputs": [],
   "source": []
  }
 ],
 "metadata": {
  "kernelspec": {
   "display_name": "Python 3 (ipykernel)",
   "language": "python",
   "name": "python3"
  },
  "language_info": {
   "codemirror_mode": {
    "name": "ipython",
    "version": 3
   },
   "file_extension": ".py",
   "mimetype": "text/x-python",
   "name": "python",
   "nbconvert_exporter": "python",
   "pygments_lexer": "ipython3",
   "version": "3.11.5"
  }
 },
 "nbformat": 4,
 "nbformat_minor": 4
}
